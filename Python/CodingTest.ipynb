{
 "cells": [
  {
   "cell_type": "markdown",
   "metadata": {},
   "source": [
    "# 단어공부\n",
    "https://www.acmicpc.net/problem/1157\n",
    "\n",
    "문제\n",
    "알파벳 대소문자로 된 단어가 주어지면, 이 단어에서 가장 많이 사용된 알파벳이 무엇인지 알아내는 프로그램을 작성하시오. 단, 대문자와 소문자를 구분하지 않는다.\n",
    "\n",
    "입력 : \n",
    "첫째 줄에 알파벳 대소문자로 이루어진 단어가 주어진다. 주어지는 단어의 길이는 1,000,000을 넘지 않는다.\n",
    "\n",
    "출력 :\n",
    "첫째 줄에 이 단어에서 가장 많이 사용된 알파벳을 대문자로 출력한다. 단, 가장 많이 사용된 알파벳이 여러 개 존재하는 경우에는 ?를 출력한다."
   ]
  },
  {
   "cell_type": "code",
   "execution_count": null,
   "metadata": {},
   "outputs": [],
   "source": [
    "# jiwon\n",
    "\n",
    "myStr = input() # 단어 받기\n",
    "myStr = myStr.upper() # 대소문자를 상관하지않고 많이쓰인 문자라고했으니 하나로변환시키자.\n",
    "dic = {} # 빈 dictionary 생성\n",
    "\n",
    "for char in myStr:\n",
    "    if char in dic:\n",
    "        dic[char] +=1\n",
    "    else :\n",
    "        dic[char] = 1\n",
    "\n",
    "# max(dic)를 하면 dic의 key값 중 최댓값이 출력됩니다. key=dic.get을 사용했는데, \n",
    "# .get은 일반적으로 dic.get(key)와 같이 쓰여 해당 key에 대한 value를 출력해주는 함수입니다. \n",
    "# max의 key로 dic.get함수를 사용했는데 key를 입력으로 value를 출력하기 때문에 \n",
    "# value의 최댓값을 기준으로 하여 dic의 key를 출력해주게 됩니다.\n",
    "\n",
    "# 다음으로 사용한 것은 리스트 컴프리핸션입니다. max(dic.values())를 하게 되면 딕셔너리의 value 중에 최댓값을 출력해주며 \n",
    "# dic.items()에서 k = key값 ,  v = value값이 반복되며 v가 value중 최대값을 때만 k를 출력하게 하는 것입니다.\n",
    "\n",
    "\n",
    "# print(max(dic))\n",
    "# max(dic)을 하면 dic의 키값 중 value값이 최대인 key가 출력이 된다.\n",
    "# 최대값이 똑같은게 존재하면 첫번째만 출력한다.\n",
    "\n",
    "# max(dic,key=dic.get) \n",
    "# dic.get(키값) 은 원래 키값에대한 dic의 value를 나타냄\n",
    "\n",
    "# dic['f']=4\n",
    "# dictionary 에 값 추가하기 예제\n",
    "\n",
    "\n",
    "ans =[k for k,v in dic.items() if max(dic.values()) == v] # list comprehension 리스트를 간결하게 만드는 방법\n",
    "# k 값이 리스트안에들어간다 // for(반복) 조건 k ,v (키값과 value값에 대하여) dic. items() 안에 있는 // dic.value() 값들중 최대값이 = v랑 같을때\n",
    "# max(dic.value()) 이값이 최대를 출력해준다.\n",
    "\n",
    "if len(ans)>1:\n",
    "    print('?')\n",
    "else:\n",
    "    print(ans[0].upper())\n",
    "    \n"
   ]
  },
  {
   "cell_type": "code",
   "execution_count": 20,
   "metadata": {},
   "outputs": [
    {
     "name": "stdout",
     "output_type": "stream",
     "text": [
      "Z\n",
      "{'Z': 2, 'A': 1}\n",
      "1\n"
     ]
    }
   ],
   "source": [
    "# Dongh\n",
    "sentence = input().upper()\n",
    "length=len(sentence)\n",
    "my_dict = {}\n",
    "\n",
    "for i in range(length):\n",
    "    if sentence[i] in my_dict:\n",
    "        my_dict[sentence[i]]=my_dict[sentence[i]]+1\n",
    "    else:\n",
    "        my_dict[sentence[i]]=1\n",
    "\n",
    "\n",
    "k=0\n",
    "max_key = max(my_dict, key=my_dict.get)\n",
    "max_value = my_dict[max_key]\n",
    "\n",
    "\n",
    "for i in my_dict:\n",
    "    if max_value==my_dict[i]:\n",
    "        k=k+1\n",
    "    \n",
    "\n",
    "\n",
    "if k==1:\n",
    "    print(max(my_dict, key=my_dict.get))\n",
    "else :\n",
    "    print(\"?\")\n",
    "\n"
   ]
  },
  {
   "cell_type": "code",
   "execution_count": null,
   "metadata": {},
   "outputs": [],
   "source": []
  },
  {
   "cell_type": "code",
   "execution_count": null,
   "metadata": {},
   "outputs": [],
   "source": []
  },
  {
   "cell_type": "markdown",
   "metadata": {},
   "source": [
    "# head\n",
    "여ㅑ기다가 씀녀도ㅓㅣㄴ다"
   ]
  }
 ],
 "metadata": {
  "kernelspec": {
   "display_name": "base",
   "language": "python",
   "name": "python3"
  },
  "language_info": {
   "codemirror_mode": {
    "name": "ipython",
    "version": 3
   },
   "file_extension": ".py",
   "mimetype": "text/x-python",
   "name": "python",
   "nbconvert_exporter": "python",
   "pygments_lexer": "ipython3",
   "version": "3.10.9"
  }
 },
 "nbformat": 4,
 "nbformat_minor": 2
}
